{
 "cells": [
  {
   "cell_type": "markdown",
   "metadata": {},
   "source": [
    "构建一个超级简单的网络，用tensorboard显示\n",
    "log TensorBoard日志信息文件保存的位置"
   ]
  },
  {
   "cell_type": "code",
   "execution_count": 1,
   "metadata": {},
   "outputs": [],
   "source": [
    "import tensorflow as tf\n",
    "input1 = tf.constant([1.0,2.0,3.0], name='input1')\n",
    "input2 = tf.Variable(tf.random_uniform([3], name='input2'))\n",
    "output = tf.add_n([input1, input2],name='add')\n",
    "writer = tf.summary.FileWriter('./log', tf.get_default_graph())\n",
    "writer.close()"
   ]
  },
  {
   "cell_type": "markdown",
   "metadata": {},
   "source": [
    "输入 tensorboard --logdir=log启动tensorboard，其中log为日志所在文件夹\n",
    "![try——tensorboard](./img/6006-.png)\n",
    "完成后长这个德行"
   ]
  }
 ],
 "metadata": {
  "kernelspec": {
   "display_name": "Python 3",
   "language": "python",
   "name": "python3"
  },
  "language_info": {
   "codemirror_mode": {
    "name": "ipython",
    "version": 3
   },
   "file_extension": ".py",
   "mimetype": "text/x-python",
   "name": "python",
   "nbconvert_exporter": "python",
   "pygments_lexer": "ipython3",
   "version": "3.6.5"
  }
 },
 "nbformat": 4,
 "nbformat_minor": 2
}
