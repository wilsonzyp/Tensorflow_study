{
 "cells": [
  {
   "cell_type": "code",
   "execution_count": 1,
   "metadata": {},
   "outputs": [
    {
     "name": "stdout",
     "output_type": "stream",
     "text": [
      "Tensor(\"x_constant:0\", shape=(2, 3, 4), dtype=int32)\n",
      "Tensor(\"x_normal:0\", shape=(3, 4, 5, 6), dtype=float32)\n"
     ]
    }
   ],
   "source": [
    "import tensorflow as tf\n",
    "\n",
    "import numpy as np\n",
    "\n",
    "\n",
    "\n",
    "# 声明一个常量的张量值\n",
    "\n",
    "x_constant = tf.constant(np.arange(24).reshape((2,3,4)), name=\"x_constant\")\n",
    "\n",
    "print(x_constant)\n",
    "\n",
    "## out: Tensor(\"x_constant:0\", shape=(2, 3, 4), dtype=int64)\n",
    "\n",
    "\n",
    "\n",
    "# 声明一个使用shape=(3,4,5,6)，并使用高斯分布随机生成的张量\n",
    "\n",
    "x_normal = tf.random_normal(shape=(3,4,5,6),mean=1,stddev=2,name=\"x_normal\")\n",
    "\n",
    "print(x_normal)\n",
    "\n",
    "## out: Tensor(\"x_normal:0\", shape=(3, 4, 5, 6), dtype=float32)"
   ]
  },
  {
   "cell_type": "code",
   "execution_count": 2,
   "metadata": {},
   "outputs": [],
   "source": [
    "x_1 = tf.random_normal((2,3,4), name = \"x_1\")\n",
    "\n",
    "x_2 = tf.random_normal((2,3,4), name = \"x_2\")\n",
    "\n",
    "y_1 = x_1 + x_2\n",
    "\n",
    "y_2 = x_1 * x_2"
   ]
  },
  {
   "cell_type": "code",
   "execution_count": 3,
   "metadata": {},
   "outputs": [
    {
     "name": "stdout",
     "output_type": "stream",
     "text": [
      "[[[-0.61028773  0.75173205 -0.72970086  1.43277884]\n",
      "  [-1.35753989  0.87805808  1.47558367 -0.9240306 ]\n",
      "  [-1.51184285  0.87371409 -2.01186013 -1.8025496 ]]\n",
      "\n",
      " [[ 1.52335048  1.29091835  1.85609436  0.92740381]\n",
      "  [-0.26803267  1.57953    -0.33360711  1.57216525]\n",
      "  [-0.72763556  2.98807955 -0.61161888 -1.13236547]]] [[[ 0.0547506   0.14095654 -0.73608446  0.2658588 ]\n",
      "  [ 0.45810515  0.16609988  0.48116279  0.060644  ]\n",
      "  [ 0.45093647 -0.27253506  0.92523855  0.59524012]]\n",
      "\n",
      " [[ 0.19785354 -0.29955834  0.77501404  0.14583713]\n",
      "  [-0.1654695  -0.34484145 -0.02089558  0.2716434 ]\n",
      "  [-0.64418447  2.0688467   0.08480736 -1.12360716]]]\n"
     ]
    }
   ],
   "source": [
    "sess = tf.Session()\n",
    "\n",
    "y_1_value, y_2_value = sess.run([y_1,y_2])\n",
    "\n",
    "print(y_1_value, y_2_value)"
   ]
  },
  {
   "cell_type": "code",
   "execution_count": 4,
   "metadata": {},
   "outputs": [],
   "source": [
    "logDir = \"./TensorBoard\"\n",
    "\n",
    "train_writer = tf.summary.FileWriter(logDir,sess.graph)\n",
    "train_writer.close()\n",
    "\n"
   ]
  },
  {
   "cell_type": "code",
   "execution_count": null,
   "metadata": {
    "collapsed": true
   },
   "outputs": [],
   "source": []
  }
 ],
 "metadata": {
  "kernelspec": {
   "display_name": "Python 3",
   "language": "python",
   "name": "python3"
  },
  "language_info": {
   "codemirror_mode": {
    "name": "ipython",
    "version": 3
   },
   "file_extension": ".py",
   "mimetype": "text/x-python",
   "name": "python",
   "nbconvert_exporter": "python",
   "pygments_lexer": "ipython3",
   "version": "3.6.5"
  }
 },
 "nbformat": 4,
 "nbformat_minor": 2
}
