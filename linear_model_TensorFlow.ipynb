{
 "cells": [
  {
   "cell_type": "markdown",
   "metadata": {},
   "source": [
    "# 使用TensorFlow构建一个简单的线性分类模型\n",
    "\n",
    "&emsp;&emsp;在这个示例中，将会使用TensorFlow构建一个基本的线性分类模型来对[mnist数据集](http://yann.lecun.com/exdb/mnist/)中的的手写数字进行识别。MNIST数据集是一个经典的分类数据集，它的每个样本是一个28\\*28的灰度图，每个图片展示的是手写数字0~9中的一个，如下图示。\n",
    "\n",
    "![mnist dataset](./img/MNIST.png)\n",
    "\n",
    "任务目标就是识别数字，即将数字正确的分类，采用模型的一些参数如下：\n",
    "\n",
    "+ 模型：softmax回归，即逻辑回归在多分类情况下的推广形式，$p(y=i)=\\frac{e^{-w_ix}}{\\sum_j e^-w_jx}$\n",
    "\n",
    "+ 特征：图片的灰度值特征\n",
    "\n",
    "+ 损失函数：log损失函数 $loss = -\\sum_i I_{i=lable}logp(y=i)$"
   ]
  },
  {
   "cell_type": "code",
   "execution_count": null,
   "metadata": {
    "collapsed": true
   },
   "outputs": [],
   "source": [
    "import time\n",
    "\n",
    "import tensorflow as tf\n",
    "from tensorflow.examples.tutorials.mnist import input_data\n",
    "\n",
    "mnist = input_data.read_data_sets('MNIST_data', one_hot=True)\n",
    "\n",
    "# 参量设置\n",
    "batch_size = 128 \n",
    "image_size = 28*28\n",
    "label_num = 10\n",
    "step_size = 0.001\n",
    "max_steps= 10000\n",
    "\n",
    "# 每个样本特征和标签的占位表示\n",
    "x = tf.placeholder(tf.float32, [None, image_size])\n",
    "y_real = tf.placeholder(tf.float32, [None, label_num])\n",
    "\n",
    "# 构建模型\n",
    "w = tf.Variable(tf.truncated_normal(shape=(image_size, label_num), stddev=0.1), name=\"weight\")\n",
    "b = tf.Variable(tf.zeros(shape=label_num), name=\"bias\")\n",
    "p = tf.nn.softmax(tf.matmul(x, w) + b, dim=1)\n",
    "\n",
    "# softmax损失\n",
    "loss = tf.reduce_sum(-y_real*tf.log(p))/batch_size\n",
    "\n",
    "# 准确度\n",
    "correct_prediction = tf.equal(tf.argmax(p, 1), tf.argmax(y_real, 1))\n",
    "accuracy = tf.reduce_mean(tf.cast(correct_prediction, tf.float32))\n",
    "\n",
    "# 使用梯度下降更新\n",
    "update = tf.train.GradientDescentOptimizer(step_size).minimize(loss)\n",
    "\n",
    "# 初始化操作\n",
    "init_op = tf.global_variables_initializer()\n",
    "\n",
    "# 迭代更新\n",
    "with tf.Session() as sess:\n",
    "    sess.run(init_op)\n",
    "    start = time.time()\n",
    "    for i in range(max_steps+1):\n",
    "        xs, ys = mnist.train.next_batch(batch_size)\n",
    "        if i % 50 == 0:\n",
    "            timeCos = time.time() - start\n",
    "            start = time.time()\n",
    "            print(\"Step: {:d}, Test accuracy: {:.3f}, timeCos: {:.1f}\".\n",
    "                  format(i, sess.run(accuracy,feed_dict={x: mnist.test.images,\n",
    "                                                         y_real: mnist.test.labels}),\n",
    "                         timeCos* 1000 / 50))\n",
    "        sess.run(update, feed_dict={x: xs, y_real: ys})\n"
   ]
  },
  {
   "cell_type": "code",
   "execution_count": null,
   "metadata": {
    "collapsed": true
   },
   "outputs": [],
   "source": []
  }
 ],
 "metadata": {
  "kernelspec": {
   "display_name": "Python 3",
   "language": "python",
   "name": "python3"
  },
  "language_info": {
   "codemirror_mode": {
    "name": "ipython",
    "version": 3
   },
   "file_extension": ".py",
   "mimetype": "text/x-python",
   "name": "python",
   "nbconvert_exporter": "python",
   "pygments_lexer": "ipython3",
   "version": "3.6.5"
  }
 },
 "nbformat": 4,
 "nbformat_minor": 2
}
