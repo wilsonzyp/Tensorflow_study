{
 "cells": [
  {
   "cell_type": "markdown",
   "metadata": {},
   "source": [
    "# tensorflow笔记（三）之 tensorboard的使用"
   ]
  },
  {
   "cell_type": "markdown",
   "metadata": {},
   "source": [
    "## 前言"
   ]
  },
  {
   "cell_type": "markdown",
   "metadata": {},
   "source": [
    "这篇notebook将介绍tensorflow当中一个非常有用的可视化工具tensorboard的使用，它将对我们分析训练效果，理解训练框架和优化算法都有很大的帮助。"
   ]
  },
  {
   "cell_type": "markdown",
   "metadata": {
    "collapsed": true
   },
   "source": [
    "由于很多显示的部分是在ubuntu终端还有代理服务器网页上的，所以jupyter notebook部分只会贴本篇的代码，详细的还请看我的博客"
   ]
  },
  {
   "cell_type": "markdown",
   "metadata": {},
   "source": [
    "还记得我的第一篇tensorflow博客上的的图片吗？先画出第一篇tensorflow博客的tensorboard图吧"
   ]
  },
  {
   "cell_type": "markdown",
   "metadata": {},
   "source": [
    "## 1. 矩阵相乘实例"
   ]
  },
  {
   "cell_type": "markdown",
   "metadata": {},
   "source": [
    "相应的代码"
   ]
  },
  {
   "cell_type": "code",
   "execution_count": 4,
   "metadata": {
    "collapsed": true
   },
   "outputs": [],
   "source": [
    "import tensorflow as tf\n",
    "\n",
    "with tf.name_scope('graph') as scope:\n",
    "     matrix1 = tf.constant([[3., 3.]],name ='matrix1')  #1 row by 2 column\n",
    "     matrix2 = tf.constant([[2.],[2.]],name ='matrix2') # 2 row by 1 column\n",
    "     product = tf.matmul(matrix1, matrix2,name='product')\n",
    "  \n",
    "sess = tf.Session()\n",
    "\n",
    "writer = tf.summary.FileWriter(\"logs/\", sess.graph)\n",
    "\n",
    "init = tf.global_variables_initializer()\n",
    "\n",
    "sess.run(init)"
   ]
  },
  {
   "cell_type": "code",
   "execution_count": 6,
   "metadata": {},
   "outputs": [
    {
     "data": {
      "text/plain": [
       "u'/home/fangyang'"
      ]
     },
     "execution_count": 6,
     "metadata": {},
     "output_type": "execute_result"
    }
   ],
   "source": [
    "pwd"
   ]
  },
  {
   "cell_type": "markdown",
   "metadata": {},
   "source": [
    "重要：运行上面的代码，查询当前目录，就可以找到一个新生成的文件，已命名为logs，我们需在终端上运行tensorboard，生成本地链接，具体看我截图，当然你也可以将上面的代码直接生成一个py文档在终端运行，也会在终端当前目录生成一个logs文件，然后运行tensorboards --logdir logs指令，就可以生成一个链接，复制那个链接，在google浏览器（我试过火狐也行）粘贴显示，对于tensorboard 中显示的网址打不开的朋友们, 请使用 http://localhost:6006 （如果这个没有成功，我之前没有安装tensorboard，也出现链接，但那个链接点开什么都没有，所以还有一种可能就是你没有安装tensorboard，使用pip install tensorboard安装tensorboard，python3用pip3 install tensorboard）"
   ]
  },
  {
   "cell_type": "markdown",
   "metadata": {},
   "source": [
    "如果出现了我博客上显示出的网页界面，那就证明tensorboard运行成功"
   ]
  },
  {
   "cell_type": "markdown",
   "metadata": {},
   "source": [
    "## 2. 线性拟合"
   ]
  },
  {
   "cell_type": "markdown",
   "metadata": {},
   "source": [
    "上面那一个比较简单，没有任何训练过程，下面将第一篇tensorflow笔记中的第二个例子来画出它的流动图（哦，对了，之所有说是流动图，这是由于tensorflow的名字就是向量在图形中流动的意思）"
   ]
  },
  {
   "cell_type": "markdown",
   "metadata": {},
   "source": [
    "代码如下："
   ]
  },
  {
   "cell_type": "code",
   "execution_count": 7,
   "metadata": {},
   "outputs": [
    {
     "name": "stdout",
     "output_type": "stream",
     "text": [
      "0 weight: [ 0.36441842] bias: [ 0.08811751]\n",
      "10 weight: [ 0.327126] bias: [ 0.08635258]\n",
      "20 weight: [ 0.31309825] bias: [ 0.09341011]\n",
      "30 weight: [ 0.30632472] bias: [ 0.09681796]\n",
      "40 weight: [ 0.303054] bias: [ 0.09846351]\n",
      "50 weight: [ 0.30147469] bias: [ 0.09925807]\n",
      "60 weight: [ 0.30071208] bias: [ 0.09964176]\n",
      "70 weight: [ 0.30034381] bias: [ 0.09982704]\n",
      "80 weight: [ 0.30016604] bias: [ 0.09991647]\n",
      "90 weight: [ 0.30008018] bias: [ 0.09995967]\n",
      "100 weight: [ 0.30003873] bias: [ 0.09998053]\n"
     ]
    }
   ],
   "source": [
    "import tensorflow as tf\n",
    "import numpy as np\n",
    "\n",
    "## prepare the original data\n",
    "with tf.name_scope('data'):\n",
    "     x_data = np.random.rand(100).astype(np.float32)\n",
    "     y_data = 0.3*x_data+0.1\n",
    "##creat parameters\n",
    "with tf.name_scope('parameters'):\n",
    "     weight = tf.Variable(tf.random_uniform([1],-1.0,1.0))\n",
    "     bias = tf.Variable(tf.zeros([1]))\n",
    "##get y_prediction\n",
    "with tf.name_scope('y_prediction'):\n",
    "     y_prediction = weight*x_data+bias\n",
    "##compute the loss\n",
    "with tf.name_scope('loss'):\n",
    "     loss = tf.reduce_mean(tf.square(y_data-y_prediction))\n",
    "##creat optimizer\n",
    "optimizer = tf.train.GradientDescentOptimizer(0.5)\n",
    "#creat train ,minimize the loss \n",
    "with tf.name_scope('train'):\n",
    "     train = optimizer.minimize(loss)\n",
    "#creat init\n",
    "with tf.name_scope('init'): \n",
    "     init = tf.global_variables_initializer()\n",
    "##creat a Session \n",
    "sess = tf.Session()\n",
    "##initialize\n",
    "writer = tf.summary.FileWriter(\"logs/\", sess.graph)\n",
    "sess.run(init)\n",
    "## Loop\n",
    "for step  in  range(101):\n",
    "    sess.run(train)\n",
    "    if step %10==0 :\n",
    "        print step ,'weight:',sess.run(weight),'bias:',sess.run(bias)\n",
    "    "
   ]
  },
  {
   "cell_type": "markdown",
   "metadata": {},
   "source": [
    "运行过程我会在博客中贴出"
   ]
  },
  {
   "cell_type": "markdown",
   "metadata": {},
   "source": [
    "然后我们在对上面的代码进行修改修改，试试tensorboard的其他功能，例如scalars，distributions，histograms,它们对我们分析学习算法的性能有很大帮助"
   ]
  },
  {
   "cell_type": "markdown",
   "metadata": {},
   "source": [
    "代码如下"
   ]
  },
  {
   "cell_type": "code",
   "execution_count": 8,
   "metadata": {
    "collapsed": true
   },
   "outputs": [],
   "source": [
    "import tensorflow as tf\n",
    "import numpy as np\n",
    "\n",
    "## prepare the original data\n",
    "with tf.name_scope('data'):\n",
    "     x_data = np.random.rand(100).astype(np.float32)\n",
    "     y_data = 0.3*x_data+0.1\n",
    "##creat parameters\n",
    "with tf.name_scope('parameters'):\n",
    "     with tf.name_scope('weights'):\n",
    "      \t  weight = tf.Variable(tf.random_uniform([1],-1.0,1.0))\n",
    "     \t  tf.summary.histogram('weight',weight)\n",
    "     with tf.name_scope('biases'):\n",
    "     \t  bias = tf.Variable(tf.zeros([1]))\n",
    "     \t  tf.summary.histogram('bias',bias)\n",
    "##get y_prediction\n",
    "with tf.name_scope('y_prediction'):\n",
    "     y_prediction = weight*x_data+bias\n",
    "##compute the loss\n",
    "with tf.name_scope('loss'):\n",
    "     loss = tf.reduce_mean(tf.square(y_data-y_prediction))\n",
    "     tf.summary.scalar('loss',loss)\n",
    "##creat optimizer\n",
    "optimizer = tf.train.GradientDescentOptimizer(0.5)\n",
    "#creat train ,minimize the loss \n",
    "with tf.name_scope('train'):\n",
    "     train = optimizer.minimize(loss)\n",
    "#creat init\n",
    "with tf.name_scope('init'): \n",
    "     init = tf.global_variables_initializer()\n",
    "##creat a Session \n",
    "sess = tf.Session()\n",
    "#merged\n",
    "merged = tf.summary.merge_all()\n",
    "##initialize\n",
    "writer = tf.summary.FileWriter(\"logs/\", sess.graph)\n",
    "sess.run(init)\n",
    "## Loop\n",
    "for step  in  range(101):\n",
    "    sess.run(train)\n",
    "    rs=sess.run(merged)\n",
    "    writer.add_summary(rs, step)"
   ]
  },
  {
   "cell_type": "markdown",
   "metadata": {},
   "source": [
    "闲麻烦，我把打印的去掉了。具体图形化我会在博客上展示"
   ]
  },
  {
   "cell_type": "code",
   "execution_count": null,
   "metadata": {
    "collapsed": true
   },
   "outputs": [],
   "source": []
  }
 ],
 "metadata": {
  "kernelspec": {
   "display_name": "Python 2",
   "language": "python",
   "name": "python2"
  },
  "language_info": {
   "codemirror_mode": {
    "name": "ipython",
    "version": 2
   },
   "file_extension": ".py",
   "mimetype": "text/x-python",
   "name": "python",
   "nbconvert_exporter": "python",
   "pygments_lexer": "ipython2",
   "version": "2.7.13"
  }
 },
 "nbformat": 4,
 "nbformat_minor": 2
}
